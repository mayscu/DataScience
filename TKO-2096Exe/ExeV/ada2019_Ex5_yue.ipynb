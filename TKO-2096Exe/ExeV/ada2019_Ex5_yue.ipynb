{
 "cells": [
  {
   "cell_type": "markdown",
   "metadata": {},
   "source": [
    "# Exercise: Cross-Validation with Symmetric Pair-Input Data\n",
    "\n",
    "This exercise consists of two tasks. The first task is compulsory: you will not get the right to take the exam if you fail the first task. The second task optional: you do not have to complete the second task but a successful completion will give you an extra point in the exam.\n",
    "\n",
    "In both tasks, use the K-nearest neighbors classifier with K=1 and Euclidean distance for learning and the concordance index for evaluation. You are encouraged to re-use your own code from the previous exercises. Use the data files `pairs.data`, `features.data`, and `labels.data` that are available in Moodle. The descriptions of these files are provided in the exercise overview, which is also available in Moodle.\n",
    "\n",
    "Follow the general exercise guidelines of the course (listed in Moodle). Particularly,\n",
    "\n",
    "- Describe and implement your solution directly to this Jupyter notebook file.\n",
    "- Remember to describe your solution in general and add detailed comments to the critical parts of your code.\n",
    "- Remember to justify your design choices and discuss your results.\n",
    "- Your report must be easy to follow and your code must be runnable in Jupyter notebook.\n",
    "\n",
    "Feel free to use markdown cells and code cells as you see appropriate.\n",
    "\n",
    "Submit the finished work to Moodle before the **deadline Monday 18th of February 2019 at 23:59**. Late submissions will be ignored."
   ]
  },
  {
   "cell_type": "markdown",
   "metadata": {},
   "source": [
    "## Cover page"
   ]
  },
  {
   "cell_type": "markdown",
   "metadata": {},
   "source": [
    "Yue Ma\n",
    "520790"
   ]
  },
  {
   "cell_type": "markdown",
   "metadata": {},
   "source": [
    "## Task 1 (compulsory)\n",
    "\n",
    "**You must successfully complete this task in order to get the right to take the exam.**\n",
    "\n",
    "1. Implement the modified leave-one-out cross-validation scheme that is described in the lecture notes.\n",
    "\n",
    "2. Estimate and report the generalisation performance of the K-nearest neighbor classifier in predicting the functional similarity of proteins. Use both the unmodified and the modified leave-one-out cross-validation.\n",
    "\n",
    "3. Discuss your results. In particular, answer the following questions:\n",
    " - Why do the two cross-validation schemes produce notably different estimates?\n",
    " - Which scheme is appropriate for estimating the generalisation performance on which types of pairs (A, B, or C) and why?"
   ]
  },
  {
   "cell_type": "markdown",
   "metadata": {},
   "source": [
    "### Libraries"
   ]
  },
  {
   "cell_type": "code",
   "execution_count": 3,
   "metadata": {},
   "outputs": [],
   "source": [
    "import pandas as pd\n",
    "import numpy as np\n",
    "import pdb\n",
    "from scipy.stats import zscore\n",
    "from sklearn.neighbors import KNeighborsClassifier"
   ]
  },
  {
   "cell_type": "markdown",
   "metadata": {},
   "source": [
    "### load data"
   ]
  },
  {
   "cell_type": "code",
   "execution_count": 4,
   "metadata": {},
   "outputs": [],
   "source": [
    "features= np.genfromtxt('/Users/mayue/Desktop/TKO-2096/Exe/ExeV/features.data',delimiter=',')\n",
    "labels=np.genfromtxt('/Users/mayue/Desktop/TKO-2096/Exe/ExeV/labels.data',delimiter=',')\n",
    "pairs=np.genfromtxt('/Users/mayue/Desktop/TKO-2096/Exe/ExeV/pairs.data',dtype='string',delimiter=',')\n"
   ]
  },
  {
   "cell_type": "markdown",
   "metadata": {},
   "source": [
    "### Implement C-index\n"
   ]
  },
  {
   "cell_type": "markdown",
   "metadata": {},
   "source": [
    "This part is directly from my previous exercise. It works well and calculate c-index for two given sequences."
   ]
  },
  {
   "cell_type": "code",
   "execution_count": 5,
   "metadata": {},
   "outputs": [],
   "source": [
    "def C_index(pred,true_labels):\n",
    "    \"\"\"pred and true_labels are sequences which have same length\"\"\"\n",
    "    n=0\n",
    "    h_sum=0.0\n",
    "    for i in range(0,len(true_labels)):\n",
    "        t=true_labels[i]\n",
    "        p=pred[i]\n",
    "        for j in range(i+1,len(true_labels)):\n",
    "            nt=true_labels[j]\n",
    "            np=pred[j]\n",
    "            if t!=nt:\n",
    "                n=n+1\n",
    "#                 pdb.set_trace()\n",
    "                if ((p<np)&(t<nt))|((p>np)&(t>nt)):\n",
    "                    h_sum+=1.0\n",
    "                else:\n",
    "                    if p==np:\n",
    "                        h_sum+=0.5\n",
    "    return float(h_sum/n)"
   ]
  },
  {
   "cell_type": "markdown",
   "metadata": {},
   "source": [
    "### Implement unmodified LOO CV"
   ]
  },
  {
   "cell_type": "markdown",
   "metadata": {},
   "source": [
    "- This class is also from my previous exercise. But for this case I have made some changes.\n",
    "- The reason why I build it as a class is that `sklearn` has similary design ideas. And I think this capsulation makes the code easier to read and use.\n",
    "- I did not use my own KNN predictor because I think `sklearn` is more stable and fast. And the previous course email has said that it is acceptable to use `sklearn`'s classifier.\n",
    "- To use the class, firstly there should `load_data()`method, then use `.predict()`method to save the results into the object. Finally use `evaluate()`method to get the performance of the model.\n",
    "- The model selection part is removed because it is unnecessary for this exercise.\n"
   ]
  },
  {
   "cell_type": "code",
   "execution_count": 6,
   "metadata": {},
   "outputs": [],
   "source": [
    "class Loo_CV():\n",
    "    def __init__(self):\n",
    "         pass\n",
    "    \n",
    "    def load_data(self,features,labels,pairs):\n",
    "        \"\"\"load data set\"\"\"\n",
    "        self.features=features\n",
    "        self.labels=labels\n",
    "        self.pairs=pairs\n",
    "        \n",
    "    def predict_KNN(self,num_neighbors):\n",
    "        n=self.features.shape[0] #number of pairs\n",
    "        results=[]\n",
    "        for i in range(0,n):#i is the index of test pair\n",
    "            X_test=self.features[i]\n",
    "            X_test=X_test.reshape(1,-1)#reshape the test pair to make it works with the predictor (because there is only one sample)\n",
    "            y_test=self.features[i]\n",
    "            \n",
    "            train_indexes=list(set(range(0,n))-set([i]))\n",
    "#             pdb.set_trace()\n",
    "            X_train=self.features[train_indexes]\n",
    "            y_train=self.labels[train_indexes]\n",
    "            \n",
    "            predictor=KNeighborsClassifier(num_neighbors)\n",
    "            predictor.fit(X_train,y_train)\n",
    "            pred=predictor.predict(X_test)[0]\n",
    "            \n",
    "            results.append(pred)\n",
    "        self.results=results\n",
    "        \n",
    "    def evaluate(self,scorer):\n",
    "        \"\"\"use given scorer to evaluate the performance of the model\"\"\"\n",
    "\n",
    "        self.score=scorer(self.results,labels)\n",
    "        return self.score"
   ]
  },
  {
   "cell_type": "markdown",
   "metadata": {},
   "source": [
    "### Implement modified LOO CV"
   ]
  },
  {
   "cell_type": "markdown",
   "metadata": {},
   "source": [
    "- the main part of this CV class is similar to the above one. The main difference is lines which are used to filter those ones who share members with the test pair."
   ]
  },
  {
   "cell_type": "code",
   "execution_count": 7,
   "metadata": {},
   "outputs": [],
   "source": [
    "class Modified_Loo_CV():\n",
    "    \"\"\"Cross-Validation which removes shared objects\"\"\"\n",
    "    \n",
    "    def __init__(self):\n",
    "         pass\n",
    "    \n",
    "    def load_data(self,features,labels,pairs):\n",
    "        \"\"\"load data set\"\"\"\n",
    "        self.features=features\n",
    "        self.labels=labels\n",
    "        self.pairs=pairs\n",
    "        \n",
    "    \n",
    "    def predict_KNN(self,num_neighbors):\n",
    "        n=self.features.shape[0] #number of pairs\n",
    "        results=[]\n",
    "        for i in range(0,n):#i is the index of test pair\n",
    "            test_a=self.pairs[i][0]\n",
    "            test_b=self.pairs[i][1]\n",
    "            X_test=self.features[i]\n",
    "            X_test=X_test.reshape(1,-1)#reshape the test pair to make it works with the predictor (because there is only one sample)\n",
    "            y_test=self.features[i]\n",
    "            \n",
    "            train_indexes=[]\n",
    "            for j in range(0,n): #Traverse pairs again to find correct tarin set\n",
    "                if (self.pairs[j][0]!=test_a)&(self.pairs[j][0]!=test_b)&(self.pairs[j][1]!=test_a)&(self.pairs[j][1]!=test_b):\n",
    "                    train_indexes.append(j) #if j th pairs doesn't have shared obejects with the test pair, then add into the indexes list\n",
    "#                     pdb.set_trace()\n",
    "            X_train=self.features[train_indexes]\n",
    "            y_train=self.labels[train_indexes]\n",
    "            \n",
    "            predictor=KNeighborsClassifier(num_neighbors)\n",
    "            predictor.fit(X_train,y_train)\n",
    "            pred=predictor.predict(X_test)[0]\n",
    "            \n",
    "            results.append(pred)\n",
    "        self.results=results\n",
    "        \n",
    "    def evaluate(self,scorer):\n",
    "        \"\"\"use given scorer to evaluate the performance of the model\"\"\"\n",
    "\n",
    "        self.score=scorer(self.results,labels)\n",
    "        return self.score\n",
    "\n",
    "            \n",
    "     "
   ]
  },
  {
   "cell_type": "markdown",
   "metadata": {},
   "source": [
    "### Results"
   ]
  },
  {
   "cell_type": "markdown",
   "metadata": {},
   "source": [
    "#### Unmodified LOO CV"
   ]
  },
  {
   "cell_type": "code",
   "execution_count": 8,
   "metadata": {},
   "outputs": [
    {
     "data": {
      "text/plain": [
       "0.7617702448210922"
      ]
     },
     "execution_count": 8,
     "metadata": {},
     "output_type": "execute_result"
    }
   ],
   "source": [
    "loo=Loo_CV()\n",
    "loo.load_data(features,labels,pairs)\n",
    "loo.predict_KNN(1)\n",
    "loo.evaluate(C_index)"
   ]
  },
  {
   "cell_type": "markdown",
   "metadata": {},
   "source": [
    "The performance of unmodifed CV is  `0.7617702448210922`."
   ]
  },
  {
   "cell_type": "markdown",
   "metadata": {},
   "source": [
    "#### Modified LOO CV"
   ]
  },
  {
   "cell_type": "code",
   "execution_count": 54,
   "metadata": {},
   "outputs": [
    {
     "data": {
      "text/plain": [
       "0.6313559322033898"
      ]
     },
     "execution_count": 54,
     "metadata": {},
     "output_type": "execute_result"
    }
   ],
   "source": [
    "mloo=Modified_Loo_CV()\n",
    "mloo.load_data(features,labels,pairs)\n",
    "mloo.predict_KNN(1)\n",
    "mloo.evaluate(C_index)"
   ]
  },
  {
   "cell_type": "markdown",
   "metadata": {},
   "source": [
    "The performance of modifed CV is  `0.6313559322033898`."
   ]
  },
  {
   "cell_type": "markdown",
   "metadata": {},
   "source": [
    "### Discussion"
   ]
  },
  {
   "cell_type": "markdown",
   "metadata": {},
   "source": [
    "- the two cross-validation schemes produce notably different estimates. Unmodified CV perform notably better than modified CV.\n",
    "    - This is because in unmodified CV, it uses pairs which \"leak\" the information of test pairs to train set, which make the model optimistic for case B and Case C (so looks like perform better).\n",
    "    - On the other hand, modified CV just use ones who have no dependencies with the test pair to train the model, which makes it works well with case C, but it does not involve Case A and B(so performance is worse beacuse it is more \"strict\").\n",
    "    \n",
    "- The modified CV is appropriate for estimating Type C pairs because it is trained under Case C and designed for predicting ones which do not have dependencies with the training set.\n",
    "- The unmodified CV is good for estimating Type A mostly because it considers the strong dependencies between known ones and unknown ones. For type B it is a bit optimistic, and for type C it is over-optimistic."
   ]
  },
  {
   "cell_type": "markdown",
   "metadata": {},
   "source": [
    "## Task 2 (optional)\n",
    "\n",
    "**Successfully completing this task will give you an extra point in the exam.**\n",
    "\n",
    "1. Design a leave-one-out cross-validation scheme that is appropriate for estimating the generalisation performance on the type of pairs for which the two aforementioned schemes are not appropriate.\n",
    "\n",
    "2. Explain why your cross-validation scheme is appropriate.\n",
    "\n",
    "3. Implement your cross-validation scheme. Estimate and report the generalisation performance as in the first task.\n",
    "\n",
    "4. Discuss your results. In particular, compare the results to those you obtained in the first task and give reasons for any similarities or differences you observe."
   ]
  },
  {
   "cell_type": "markdown",
   "metadata": {},
   "source": [
    "- the two aforementioned schemes are not appropriate are not appropriate for type B pairs.\n",
    "- For unmodified CV, it works well with Type A. \n",
    "- For modifeied CV, it works well with Type C.\n",
    "\n",
    "---\n",
    "- So task here is to make the CV works with type B pairs, where unknown ones have only one shared member with known ones."
   ]
  },
  {
   "cell_type": "markdown",
   "metadata": {},
   "source": [
    "### Implement LOO CV for type B"
   ]
  },
  {
   "cell_type": "markdown",
   "metadata": {},
   "source": [
    "- Similary to modefied CV, this modified CV's main difference is that how it choose the training set.\n",
    "- I just adopted the most naive ways to judge which ones are needed. To make the code eaiser to read, I capsulate this part into a function, which is `judge_typeB()`."
   ]
  },
  {
   "cell_type": "code",
   "execution_count": 56,
   "metadata": {},
   "outputs": [],
   "source": [
    "class B_Loo_CV():\n",
    "    \n",
    "    \n",
    "    def __init__(self):\n",
    "         pass\n",
    "    \n",
    "    def load_data(self,features,labels,pairs):\n",
    "        \"\"\"load data set\"\"\"\n",
    "        self.features=features\n",
    "        self.labels=labels\n",
    "        self.pairs=pairs\n",
    "    \n",
    "    def judge_typeB(pair1,pair2):\n",
    "        \"\"\"to judge whether one pair has ONLY one shared member with another pair\"\"\"\n",
    "        cond1=(pair1[0]!=pair2[1])&(pair2[0]!=pair2[1])#the members in one pair can't be the same ones\n",
    "        #==========#\n",
    "        #the four situation where pair1 has only one shared member with pair2\n",
    "        cond2=(pair1[0]==pair2[0])&(pair1[1]!=pair2[1]) \n",
    "        cond3=(pair1[0]==pair2[1])&(pair1[1]!=pair2[0])\n",
    "        cond4=(pair1[1]==pair2[0])&(pair1[0]!=pair2[1])\n",
    "        cond5=(pair1[1]==pair2[1])&(pair1[0]!=pair2[0])\n",
    "        return (cond1&(cond2|cond3|cond4|cond5))\n",
    "    \n",
    "    def predict_KNN(self,num_neighbors):\n",
    "        n=self.features.shape[0] #number of pairs\n",
    "        results=[]\n",
    "        for i in range(0,n):#i is the index of test pair\n",
    "            test_a=self.pairs[i][0]\n",
    "            test_b=self.pairs[i][1]\n",
    "            X_test=self.features[i]\n",
    "            X_test=X_test.reshape(1,-1)#reshape the test pair to make it works with the predictor (because there is only one sample)\n",
    "            y_test=self.features[i]\n",
    "            \n",
    "            train_indexes=[]\n",
    "            for j in range(0,n): #Traverse pairs again to find correct tarin set\n",
    "                if judge_typeB(self.pairs[j],[test_a,test_b]):\n",
    "                    train_indexes.append(j) #if j th pairs doesn't have shared obejects with the test pair, then add into the indexes list\n",
    "#                     pdb.set_trace()\n",
    "            X_train=self.features[train_indexes]\n",
    "            y_train=self.labels[train_indexes]\n",
    "            \n",
    "            predictor=KNeighborsClassifier(num_neighbors)\n",
    "            predictor.fit(X_train,y_train)\n",
    "            pred=predictor.predict(X_test)[0]\n",
    "            \n",
    "            results.append(pred)\n",
    "        self.results=results\n",
    "        \n",
    "    def evaluate(self,scorer):\n",
    "        \"\"\"use given scorer to evaluate the performance of the model\"\"\"\n",
    "\n",
    "        self.score=scorer(self.results,labels)\n",
    "        return self.score"
   ]
  },
  {
   "cell_type": "markdown",
   "metadata": {},
   "source": [
    "#### Results and Discussion\n",
    "\n",
    "- The result of this modified CV is `0.7448210922787194`, a bit lower than that of unmodified CV, but higher than modified CV.\n",
    "- The reason why its performance is lower than unmodified CV is because it only cares about case B where the known pairs just \"leak\" part of unknown data's information. This is to say, it doesn't \"know\" so much as unmodified LOO CV.\n",
    "- Because type B pairs has more information for the model to learn than type C, so it has better performance than previous modified CV.\n",
    "\n",
    "- This kind of CV uses pairs which share ONLY one member with unknown data to train, which means it has \"got used to\" the dependencies of type B pairs. This is the reason why it is appropriate for this type."
   ]
  },
  {
   "cell_type": "code",
   "execution_count": 58,
   "metadata": {},
   "outputs": [
    {
     "data": {
      "text/plain": [
       "0.7448210922787194"
      ]
     },
     "execution_count": 58,
     "metadata": {},
     "output_type": "execute_result"
    }
   ],
   "source": [
    "bloo=B_Loo_CV()\n",
    "bloo.load_data(features,labels,pairs)\n",
    "bloo.predict_KNN(1)\n",
    "bloo.evaluate(C_index)"
   ]
  }
 ],
 "metadata": {
  "kernelspec": {
   "display_name": "ccc",
   "language": "python",
   "name": "your_env_name"
  },
  "language_info": {
   "codemirror_mode": {
    "name": "ipython",
    "version": 2
   },
   "file_extension": ".py",
   "mimetype": "text/x-python",
   "name": "python",
   "nbconvert_exporter": "python",
   "pygments_lexer": "ipython2",
   "version": "2.7.15"
  }
 },
 "nbformat": 4,
 "nbformat_minor": 2
}
