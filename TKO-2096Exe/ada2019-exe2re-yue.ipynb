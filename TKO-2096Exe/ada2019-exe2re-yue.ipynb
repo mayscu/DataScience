{
 "cells": [
  {
   "cell_type": "markdown",
   "metadata": {},
   "source": [
    "# TKO2096 \n",
    "## EXERCISE II Prediction of the metal ion content from multi-parameter data\n",
    "YUE MA 520790"
   ]
  },
  {
   "cell_type": "markdown",
   "metadata": {},
   "source": [
    "## Libraries"
   ]
  },
  {
   "cell_type": "code",
   "execution_count": 2,
   "metadata": {},
   "outputs": [],
   "source": [
    "import numpy as np\n",
    "import pandas as pd\n",
    "import pdb\n",
    "import operator\n",
    "import random\n",
    "from sklearn.neighbors import KNeighborsRegressor\n",
    "from scipy.stats import zscore"
   ]
  },
  {
   "cell_type": "markdown",
   "metadata": {},
   "source": [
    "## Functions and Classes list"
   ]
  },
  {
   "cell_type": "markdown",
   "metadata": {},
   "source": [
    "Classes:\n",
    "- `KNN_Regression`: \n",
    "    - `.fit()` load train data into the model\n",
    "    - `.predict()` predict for a single label\n",
    "    - `KNN_Regression_Multi` child class. predict for multi labels\n",
    "        - `.predict_ion()` based on the `.select_label()` and `.predict_multi()` methods, the main idea of it is that it add `pb` and `Cd` together to predict `c_total`.\n",
    "- `LXO_CV`\n",
    "    - `.load_data()`:load train data.\n",
    "    - `.predict_own_KNN()`:predict with my own KNN algorithms (k should be set) and save the results into the object\n",
    "    - `.predict_sklearn_KNN()`:predict with sklearn (k should be set) and save the results into the object\n",
    "    - `.evaluate()`: evaluate the performance of results with given scorer function\n",
    "\n",
    "Function:\n",
    "- `C_index()`: calculate c-index for two sequences of data\n",
    "\n",
    "the part of trying different k values was not been created as function or class."
   ]
  },
  {
   "cell_type": "markdown",
   "metadata": {},
   "source": [
    "## Load and preprocess data"
   ]
  },
  {
   "cell_type": "code",
   "execution_count": 3,
   "metadata": {},
   "outputs": [],
   "source": [
    "water_data=pd.read_csv(\"/Users/mayue/Desktop/TKO-2096/Exe/Water_data.csv\")"
   ]
  },
  {
   "cell_type": "code",
   "execution_count": 4,
   "metadata": {},
   "outputs": [],
   "source": [
    "\"\"\"split the data into attributes and targets\"\"\"\n",
    "y=water_data.iloc[:,0:3]\n",
    "X=water_data.iloc[:,3:6]"
   ]
  },
  {
   "cell_type": "code",
   "execution_count": 5,
   "metadata": {},
   "outputs": [],
   "source": [
    "\"\"\"Normalization\"\"\"\n",
    "y=zscore(y)\n",
    "X=zscore(X)"
   ]
  },
  {
   "cell_type": "markdown",
   "metadata": {},
   "source": [
    "## Define the own KNN regression "
   ]
  },
  {
   "cell_type": "markdown",
   "metadata": {},
   "source": [
    "To make the KNN predictor works on predicting multi values, I have created a subclass of `KNN_Regression_Multi`. It can produce multi predicted values at a meanwhile.\n",
    "\n",
    "Another tricky problem I have met is that the case is special which include a label `c_total` as the sum of other labels. So I have to build a new special function to get the better predictions"
   ]
  },
  {
   "cell_type": "code",
   "execution_count": 6,
   "metadata": {},
   "outputs": [],
   "source": [
    "class KNN_Regression():\n",
    "    \"\"\"my own class to implement KNN regress from exercise I\"\"\"\n",
    "    \n",
    "    def __init__(self,num_neighbors=3):\n",
    "        self.num_neighbors=num_neighbors\n",
    "        \n",
    "    def fit(self,attributes,targets):\n",
    "        \"\"\"load the data into the model\"\"\"\n",
    "        \"\"\"attributes and targets are arrays\"\"\"\n",
    "        self.attributes=attributes\n",
    "        self.all_targets=targets #store the copy of all different kinds of labels\n",
    "        self.targets=targets#labels we want to predict for now\n",
    "        \n",
    "        \n",
    "    def predict(self,inX):\n",
    "        \"\"\"predict an input instance's label \"\"\"\n",
    "        \"\"\"inX is an 1-d array which represents an instance\"\"\"\n",
    "        size=self.attributes.shape[0]\n",
    "        \n",
    "        diffMat=np.tile(inX, (size,1))-self.attributes\n",
    "        sqDiffMat=diffMat**2\n",
    "        sqDistances=sqDiffMat.sum(axis=1)\n",
    "        distances=sqDistances**0.5#calculate the euclidean disantce \n",
    "        \n",
    "        sortedDistanceIndices=distances.argsort()\n",
    "        valueCount=[]\n",
    "        \n",
    "        for i in range(self.num_neighbors):\n",
    "            voteIvalue=self.targets[sortedDistanceIndices[i]]\n",
    "            valueCount.append(voteIvalue)\n",
    "        predictedValue=np.mean(valueCount) #calculate the average values of neighbors\n",
    "        \n",
    "        return predictedValue"
   ]
  },
  {
   "cell_type": "code",
   "execution_count": 7,
   "metadata": {},
   "outputs": [],
   "source": [
    "class KNN_Regression_Multi(KNN_Regression):\n",
    "    \"\"\"the child class of KNN_Regression, which is used to produce 3 predicted values meanwhile\"\"\"\n",
    "\n",
    "    def select_label(self,indice):\n",
    "        \"\"\"fit the model using selected labels\"\"\"\n",
    "        self.targets=self.all_targets[:,indice]\n",
    "        \n",
    "    def predict_multi(self,inX,label_index):\n",
    "        \"\"\"predict for multi label values,return a list of predicted values\"\"\"\n",
    "        \"\"\"label_indice: a list of index of labels to be predicted\"\"\"\n",
    "        n=self.all_targets.shape[1]\n",
    "        pred=[]\n",
    "        for i in label_index:\n",
    "            self.select_label(i)#change the label to be predicted\n",
    "            pred.append(self.predict(inX))\n",
    "        return pred\n",
    "    \n",
    "    def predict_ion(self,inX):\n",
    "        \"\"\"this function is to solve the specific requirement of the case, where one lable c_total is the sum of other 2 labels\"\"\"\n",
    "        pred=[]\n",
    "        temp=self.predict_multi(inX,[1,2])\n",
    "        pred.append(temp[0])\n",
    "        pred.append(temp[1])\n",
    "#         pdb.set_trace()\n",
    "        pred.append(sum(pred)) #c-total is the sum of cd and pb\n",
    "        pred=[pred[2],pred[0],pred[1]] #arrange the order of the values\n",
    "        return pred"
   ]
  },
  {
   "cell_type": "markdown",
   "metadata": {},
   "source": [
    "## Define the calculation of c-index"
   ]
  },
  {
   "cell_type": "markdown",
   "metadata": {},
   "source": [
    "This function has refered to the pseudocode in the slide. It calculates the c-index for two sequences of data."
   ]
  },
  {
   "cell_type": "code",
   "execution_count": 8,
   "metadata": {},
   "outputs": [],
   "source": [
    "def C_index(pred,true_labels):\n",
    "    \"\"\"pred and true_labels are sequences which have same length\"\"\"\n",
    "    n=0\n",
    "    h_sum=0.0\n",
    "    for i in range(0,len(true_labels)):\n",
    "        t=true_labels[i]\n",
    "        p=pred[i]\n",
    "        for j in range(i+1,len(true_labels)):\n",
    "            nt=true_labels[j]\n",
    "            np=pred[j]\n",
    "            if t!=nt:\n",
    "                n=n+1\n",
    "#                 pdb.set_trace()\n",
    "                if ((p<np)&(t<nt))|((p>np)&(t>nt)):\n",
    "                    h_sum+=1.0\n",
    "                else:\n",
    "                    if p==np:\n",
    "                        h_sum+=0.5\n",
    "    return float(h_sum/n)"
   ]
  },
  {
   "cell_type": "markdown",
   "metadata": {},
   "source": [
    "## Define the own LXO cross validation class"
   ]
  },
  {
   "cell_type": "markdown",
   "metadata": {},
   "source": [
    "To make the modifying easier, I build the CV process as a class. \n",
    "\n",
    "-  firstly the number of leave-out should be decided. If the parameter=1, then it is a LOO CV. If it is 3, then there goes the L3O CV.\n",
    "- load data into CV object\n",
    "- then use 2 different methods(own KNN and `sklearn`) to predict and save the results into the class's attribute. \n",
    "- Finally `.evaluate()` method help to calculate the performance of the model"
   ]
  },
  {
   "cell_type": "code",
   "execution_count": 9,
   "metadata": {},
   "outputs": [],
   "source": [
    "class LXO_CV():\n",
    "    \n",
    "    def __init__(self,leave_out_num=1):\n",
    "        self.size_validate=leave_out_num #number of leave-out instances in each validation\n",
    "    \n",
    "    def load_data(self,attributes,targets):\n",
    "        \"\"\"load the train data before validating\"\"\"\n",
    "        self.attributes=attributes\n",
    "        self.targets=targets\n",
    "        \n",
    "    def predict_own_KNN(self,predictor_class,num_neighbor):\n",
    "        \"\"\"predictor_class is the predictor CLASS used to validate\"\"\"\n",
    "        \"\"\"this method is used for validating using own KNN\"\"\"\n",
    "        m=self.attributes.shape[0]\n",
    "        all_results={}\n",
    "        for i in range(0,m,self.size_validate):\n",
    "            #split train set and validate set\n",
    "            validate_index=range(i,i+self.size_validate)\n",
    "\n",
    "            X_validate=self.attributes[validate_index]\n",
    "            y_validate=self.targets[validate_index]\n",
    "\n",
    "            X_train=np.delete(self.attributes,validate_index,0)\n",
    "            y_train=np.delete(self.targets,validate_index,0)#remove the validating instance\n",
    "\n",
    "            predictor=predictor_class(num_neighbor)\n",
    "            predictor.fit(X_train,y_train)\n",
    "            \n",
    "            for j in range(0,self.size_validate):#predict for each single validate instance, because the KNN regressor here can't accept multi instances\n",
    "                pred=predictor.predict_ion(X_validate[j])\n",
    "                all_results[i+j]=pred #key of the result dict is the number of instance\n",
    "        self.all_results=pd.DataFrame.from_dict(all_results,orient='index',columns=['c_total','cd','pb'])\n",
    "        \n",
    "    def predict_sklearn_KNN(self,num_neighbor):\n",
    "        \"\"\"directly use sklearn.neighbors.KNeighborsRegressor to predict for 3 targets values\"\"\"\n",
    "        m=self.attributes.shape[0]\n",
    "        all_results={}\n",
    "        for i in range(0,m,self.size_validate):\n",
    "            #split train set and validate set\n",
    "            validate_index=range(i,i+self.size_validate)\n",
    "\n",
    "            X_validate=self.attributes[validate_index]\n",
    "            y_validate=self.targets[validate_index]\n",
    "\n",
    "            X_train=np.delete(self.attributes,validate_index,0)\n",
    "            y_train=np.delete(self.targets,validate_index,0)#remove the validating instance\n",
    "\n",
    "            predictor=KNeighborsRegressor(num_neighbor)\n",
    "            predictor.fit(X_train,y_train)\n",
    "            pred=predictor.predict(X_validate)\n",
    "            all_results[i]=pred #key of the result dict is the number of instance\n",
    "\n",
    "        all_results=np.array(all_results.values())\n",
    "        all_results_=all_results.reshape((all_results.shape[0]*all_results.shape[1]),all_results.shape[2])#transfer the dimension of the dict, which will make printout easier\n",
    "        self.all_results=pd.DataFrame(all_results_,columns=['c_total','cd','pb'])\n",
    "        \n",
    "            \n",
    "    def evaluate(self,scorer):\n",
    "        \"\"\"socrer is the function used to evaluating the performance\"\"\"\n",
    "        scores={}\n",
    "        for i in range(0,self.all_results.shape[1]):\n",
    "            #Traversing targets\n",
    "            score=scorer(self.all_results.iloc[:,i],self.targets[:,i])\n",
    "            target_name=self.all_results.columns[i]\n",
    "            scores[target_name]=score\n",
    "        self.all_scores=scores\n",
    "            "
   ]
  },
  {
   "cell_type": "markdown",
   "metadata": {},
   "source": [
    "## Results "
   ]
  },
  {
   "cell_type": "markdown",
   "metadata": {},
   "source": [
    "### Predict  with my own KNN"
   ]
  },
  {
   "cell_type": "markdown",
   "metadata": {},
   "source": [
    "Launch a leave-one-out cross validation using my own KNN, and print out the results of different k values:"
   ]
  },
  {
   "cell_type": "code",
   "execution_count": 22,
   "metadata": {
    "scrolled": true
   },
   "outputs": [],
   "source": [
    "\"\"\"Calculate c-index for different k values using LOO CV\"\"\"\n",
    "loo=LXO_CV(1)\n",
    "loo.load_data(X,y)\n",
    "\n",
    "namelist=[]\n",
    "for i in range(1,6): #the range of k\n",
    "    name='loo_score_'+str(i)\n",
    "    namelist.append(name)\n",
    "    loo.predict_own_KNN(KNN_Regression_Multi,i)\n",
    "    loo.evaluate(C_index)\n",
    "    scores=loo.all_scores\n",
    "    locals()[name]=scores\n",
    "\n"
   ]
  },
  {
   "cell_type": "code",
   "execution_count": 23,
   "metadata": {
    "scrolled": true
   },
   "outputs": [
    {
     "data": {
      "text/html": [
       "<div>\n",
       "<style scoped>\n",
       "    .dataframe tbody tr th:only-of-type {\n",
       "        vertical-align: middle;\n",
       "    }\n",
       "\n",
       "    .dataframe tbody tr th {\n",
       "        vertical-align: top;\n",
       "    }\n",
       "\n",
       "    .dataframe thead th {\n",
       "        text-align: right;\n",
       "    }\n",
       "</style>\n",
       "<table border=\"1\" class=\"dataframe\">\n",
       "  <thead>\n",
       "    <tr style=\"text-align: right;\">\n",
       "      <th></th>\n",
       "      <th>c_total</th>\n",
       "      <th>cd</th>\n",
       "      <th>pb</th>\n",
       "    </tr>\n",
       "  </thead>\n",
       "  <tbody>\n",
       "    <tr>\n",
       "      <th>k=1</th>\n",
       "      <td>0.900076</td>\n",
       "      <td>0.900581</td>\n",
       "      <td>0.866368</td>\n",
       "    </tr>\n",
       "    <tr>\n",
       "      <th>k=2</th>\n",
       "      <td>0.906158</td>\n",
       "      <td>0.902385</td>\n",
       "      <td>0.872384</td>\n",
       "    </tr>\n",
       "    <tr>\n",
       "      <th>k=3</th>\n",
       "      <td>0.904258</td>\n",
       "      <td>0.877982</td>\n",
       "      <td>0.849629</td>\n",
       "    </tr>\n",
       "    <tr>\n",
       "      <th>k=4</th>\n",
       "      <td>0.891794</td>\n",
       "      <td>0.851904</td>\n",
       "      <td>0.845548</td>\n",
       "    </tr>\n",
       "    <tr>\n",
       "      <th>k=5</th>\n",
       "      <td>0.879277</td>\n",
       "      <td>0.825277</td>\n",
       "      <td>0.830482</td>\n",
       "    </tr>\n",
       "  </tbody>\n",
       "</table>\n",
       "</div>"
      ],
      "text/plain": [
       "      c_total        cd        pb\n",
       "k=1  0.900076  0.900581  0.866368\n",
       "k=2  0.906158  0.902385  0.872384\n",
       "k=3  0.904258  0.877982  0.849629\n",
       "k=4  0.891794  0.851904  0.845548\n",
       "k=5  0.879277  0.825277  0.830482"
      ]
     },
     "execution_count": 23,
     "metadata": {},
     "output_type": "execute_result"
    }
   ],
   "source": [
    "pd.DataFrame([loo_score_1,loo_score_2,loo_score_3,loo_score_4,loo_score_5],index=['k=1','k=2','k=3','k=4','k=5'])"
   ]
  },
  {
   "cell_type": "markdown",
   "metadata": {},
   "source": [
    "Launch a leave-3-out cross validation using my own KNN, and print out the results of different k values:"
   ]
  },
  {
   "cell_type": "code",
   "execution_count": 24,
   "metadata": {},
   "outputs": [],
   "source": [
    "\"\"\"Calculate c-index for different k values using L3O CV\"\"\"\n",
    "l3o=LXO_CV(3)\n",
    "l3o.load_data(X,y)\n",
    "\n",
    "namelist=[]\n",
    "for i in range(1,6): #the range of k\n",
    "    name='l3o_score_'+str(i)\n",
    "    namelist.append(name)\n",
    "    l3o.predict_own_KNN(KNN_Regression_Multi,i)\n",
    "    l3o.evaluate(C_index)\n",
    "    scores=l3o.all_scores\n",
    "    locals()[name]=scores\n",
    "\n"
   ]
  },
  {
   "cell_type": "code",
   "execution_count": 25,
   "metadata": {},
   "outputs": [
    {
     "data": {
      "text/html": [
       "<div>\n",
       "<style scoped>\n",
       "    .dataframe tbody tr th:only-of-type {\n",
       "        vertical-align: middle;\n",
       "    }\n",
       "\n",
       "    .dataframe tbody tr th {\n",
       "        vertical-align: top;\n",
       "    }\n",
       "\n",
       "    .dataframe thead th {\n",
       "        text-align: right;\n",
       "    }\n",
       "</style>\n",
       "<table border=\"1\" class=\"dataframe\">\n",
       "  <thead>\n",
       "    <tr style=\"text-align: right;\">\n",
       "      <th></th>\n",
       "      <th>c_total</th>\n",
       "      <th>cd</th>\n",
       "      <th>pb</th>\n",
       "    </tr>\n",
       "  </thead>\n",
       "  <tbody>\n",
       "    <tr>\n",
       "      <th>k=1</th>\n",
       "      <td>0.816037</td>\n",
       "      <td>0.741028</td>\n",
       "      <td>0.736268</td>\n",
       "    </tr>\n",
       "    <tr>\n",
       "      <th>k=2</th>\n",
       "      <td>0.817231</td>\n",
       "      <td>0.745789</td>\n",
       "      <td>0.751909</td>\n",
       "    </tr>\n",
       "    <tr>\n",
       "      <th>k=3</th>\n",
       "      <td>0.819757</td>\n",
       "      <td>0.735405</td>\n",
       "      <td>0.752642</td>\n",
       "    </tr>\n",
       "    <tr>\n",
       "      <th>k=4</th>\n",
       "      <td>0.822553</td>\n",
       "      <td>0.722353</td>\n",
       "      <td>0.759338</td>\n",
       "    </tr>\n",
       "    <tr>\n",
       "      <th>k=5</th>\n",
       "      <td>0.815114</td>\n",
       "      <td>0.720731</td>\n",
       "      <td>0.755702</td>\n",
       "    </tr>\n",
       "  </tbody>\n",
       "</table>\n",
       "</div>"
      ],
      "text/plain": [
       "      c_total        cd        pb\n",
       "k=1  0.816037  0.741028  0.736268\n",
       "k=2  0.817231  0.745789  0.751909\n",
       "k=3  0.819757  0.735405  0.752642\n",
       "k=4  0.822553  0.722353  0.759338\n",
       "k=5  0.815114  0.720731  0.755702"
      ]
     },
     "execution_count": 25,
     "metadata": {},
     "output_type": "execute_result"
    }
   ],
   "source": [
    "pd.DataFrame([l3o_score_1,l3o_score_2,l3o_score_3,l3o_score_4,l3o_score_5],index=['k=1','k=2','k=3','k=4','k=5'])"
   ]
  },
  {
   "cell_type": "markdown",
   "metadata": {},
   "source": [
    "### Predict with `sklearn.neighbors.KNeighborsRegressor`"
   ]
  },
  {
   "cell_type": "markdown",
   "metadata": {},
   "source": [
    "Launch a leave-one-out cross validation using sklean, and print out the results of different k values:"
   ]
  },
  {
   "cell_type": "code",
   "execution_count": 26,
   "metadata": {
    "scrolled": true
   },
   "outputs": [
    {
     "data": {
      "text/html": [
       "<div>\n",
       "<style scoped>\n",
       "    .dataframe tbody tr th:only-of-type {\n",
       "        vertical-align: middle;\n",
       "    }\n",
       "\n",
       "    .dataframe tbody tr th {\n",
       "        vertical-align: top;\n",
       "    }\n",
       "\n",
       "    .dataframe thead th {\n",
       "        text-align: right;\n",
       "    }\n",
       "</style>\n",
       "<table border=\"1\" class=\"dataframe\">\n",
       "  <thead>\n",
       "    <tr style=\"text-align: right;\">\n",
       "      <th></th>\n",
       "      <th>c_total</th>\n",
       "      <th>cd</th>\n",
       "      <th>pb</th>\n",
       "    </tr>\n",
       "  </thead>\n",
       "  <tbody>\n",
       "    <tr>\n",
       "      <th>k=1</th>\n",
       "      <td>0.898664</td>\n",
       "      <td>0.900581</td>\n",
       "      <td>0.866368</td>\n",
       "    </tr>\n",
       "    <tr>\n",
       "      <th>k=2</th>\n",
       "      <td>0.905615</td>\n",
       "      <td>0.902385</td>\n",
       "      <td>0.872384</td>\n",
       "    </tr>\n",
       "    <tr>\n",
       "      <th>k=3</th>\n",
       "      <td>0.903796</td>\n",
       "      <td>0.877982</td>\n",
       "      <td>0.849629</td>\n",
       "    </tr>\n",
       "    <tr>\n",
       "      <th>k=4</th>\n",
       "      <td>0.891659</td>\n",
       "      <td>0.851904</td>\n",
       "      <td>0.845548</td>\n",
       "    </tr>\n",
       "    <tr>\n",
       "      <th>k=5</th>\n",
       "      <td>0.880553</td>\n",
       "      <td>0.825277</td>\n",
       "      <td>0.830482</td>\n",
       "    </tr>\n",
       "  </tbody>\n",
       "</table>\n",
       "</div>"
      ],
      "text/plain": [
       "      c_total        cd        pb\n",
       "k=1  0.898664  0.900581  0.866368\n",
       "k=2  0.905615  0.902385  0.872384\n",
       "k=3  0.903796  0.877982  0.849629\n",
       "k=4  0.891659  0.851904  0.845548\n",
       "k=5  0.880553  0.825277  0.830482"
      ]
     },
     "execution_count": 26,
     "metadata": {},
     "output_type": "execute_result"
    }
   ],
   "source": [
    "loo=LXO_CV(1)\n",
    "loo.load_data(X,y)\n",
    "\n",
    "namelist=[]\n",
    "for i in range(1,6): #the range of k\n",
    "    name='loo_score_'+str(i)\n",
    "    namelist.append(name)\n",
    "    loo.predict_sklearn_KNN(i)\n",
    "    loo.evaluate(C_index)\n",
    "    scores=loo.all_scores\n",
    "    locals()[name]=scores\n",
    "    \n",
    "pd.DataFrame([loo_score_1,loo_score_2,loo_score_3,loo_score_4,loo_score_5],index=['k=1','k=2','k=3','k=4','k=5'])"
   ]
  },
  {
   "cell_type": "markdown",
   "metadata": {},
   "source": [
    "Launch a leave-3-out cross validation using sklearn, and print out the results of different k values:"
   ]
  },
  {
   "cell_type": "code",
   "execution_count": 27,
   "metadata": {},
   "outputs": [
    {
     "data": {
      "text/html": [
       "<div>\n",
       "<style scoped>\n",
       "    .dataframe tbody tr th:only-of-type {\n",
       "        vertical-align: middle;\n",
       "    }\n",
       "\n",
       "    .dataframe tbody tr th {\n",
       "        vertical-align: top;\n",
       "    }\n",
       "\n",
       "    .dataframe thead th {\n",
       "        text-align: right;\n",
       "    }\n",
       "</style>\n",
       "<table border=\"1\" class=\"dataframe\">\n",
       "  <thead>\n",
       "    <tr style=\"text-align: right;\">\n",
       "      <th></th>\n",
       "      <th>c_total</th>\n",
       "      <th>cd</th>\n",
       "      <th>pb</th>\n",
       "    </tr>\n",
       "  </thead>\n",
       "  <tbody>\n",
       "    <tr>\n",
       "      <th>k=1</th>\n",
       "      <td>0.560579</td>\n",
       "      <td>0.591573</td>\n",
       "      <td>0.521683</td>\n",
       "    </tr>\n",
       "    <tr>\n",
       "      <th>k=2</th>\n",
       "      <td>0.568861</td>\n",
       "      <td>0.585112</td>\n",
       "      <td>0.533689</td>\n",
       "    </tr>\n",
       "    <tr>\n",
       "      <th>k=3</th>\n",
       "      <td>0.568806</td>\n",
       "      <td>0.575303</td>\n",
       "      <td>0.530106</td>\n",
       "    </tr>\n",
       "    <tr>\n",
       "      <th>k=4</th>\n",
       "      <td>0.560660</td>\n",
       "      <td>0.565338</td>\n",
       "      <td>0.533924</td>\n",
       "    </tr>\n",
       "    <tr>\n",
       "      <th>k=5</th>\n",
       "      <td>0.546595</td>\n",
       "      <td>0.560865</td>\n",
       "      <td>0.527830</td>\n",
       "    </tr>\n",
       "  </tbody>\n",
       "</table>\n",
       "</div>"
      ],
      "text/plain": [
       "      c_total        cd        pb\n",
       "k=1  0.560579  0.591573  0.521683\n",
       "k=2  0.568861  0.585112  0.533689\n",
       "k=3  0.568806  0.575303  0.530106\n",
       "k=4  0.560660  0.565338  0.533924\n",
       "k=5  0.546595  0.560865  0.527830"
      ]
     },
     "execution_count": 27,
     "metadata": {},
     "output_type": "execute_result"
    }
   ],
   "source": [
    "\"\"\"Calculate c-index for different k values using L3O CV\"\"\"\n",
    "l3o=LXO_CV(3)\n",
    "l3o.load_data(X,y)\n",
    "\n",
    "namelist=[]\n",
    "for i in range(1,6): #the range of k\n",
    "    name='l3o_score_'+str(i)\n",
    "    namelist.append(name)\n",
    "    l3o.predict_sklearn_KNN(i)\n",
    "    l3o.evaluate(C_index)\n",
    "    scores=l3o.all_scores\n",
    "    locals()[name]=scores\n",
    "\n",
    "pd.DataFrame([l3o_score_1,l3o_score_2,l3o_score_3,l3o_score_4,l3o_score_5],index=['k=1','k=2','k=3','k=4','k=5'])"
   ]
  },
  {
   "cell_type": "markdown",
   "metadata": {},
   "source": [
    "##  which evaluation approach generalize better? Why?  \n",
    "- L3O will generalize better than LOO. Because L3O leave all 3 copies of a sample out as validate set, so that the prediction will not be influenced by the copy of the sample\n",
    "-  Basically sklearn get worse performance during L3O CV. This may because it predicts for `c_total` independently rather than gets the sum of `cd` and `pb`. And when L3O it can't depend on the copies to predict, so the performance is decreased."
   ]
  }
 ],
 "metadata": {
  "kernelspec": {
   "display_name": "ccc",
   "language": "python",
   "name": "your_env_name"
  },
  "language_info": {
   "codemirror_mode": {
    "name": "ipython",
    "version": 2
   },
   "file_extension": ".py",
   "mimetype": "text/x-python",
   "name": "python",
   "nbconvert_exporter": "python",
   "pygments_lexer": "ipython2",
   "version": "2.7.15"
  }
 },
 "nbformat": 4,
 "nbformat_minor": 2
}
