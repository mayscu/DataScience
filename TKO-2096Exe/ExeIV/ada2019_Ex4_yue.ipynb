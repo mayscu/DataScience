{
 "cells": [
  {
   "cell_type": "markdown",
   "metadata": {},
   "source": [
    "# TKO2096 \n",
    "## EXERCISE IV | Soil water permeability prediction in forest harvesting operations\n",
    "YUE MA 520790"
   ]
  },
  {
   "cell_type": "markdown",
   "metadata": {},
   "source": [
    "## Libraries "
   ]
  },
  {
   "cell_type": "code",
   "execution_count": 123,
   "metadata": {},
   "outputs": [],
   "source": [
    "import pandas as pd\n",
    "import matplotlib.pyplot as plt\n",
    "import numpy as np\n",
    "import pdb\n",
    "from scipy.stats import zscore\n",
    "from sklearn.neighbors import KNeighborsRegressor"
   ]
  },
  {
   "cell_type": "markdown",
   "metadata": {},
   "source": [
    "## Class and functions"
   ]
  },
  {
   "cell_type": "markdown",
   "metadata": {},
   "source": [
    "- `C_index()`: return C-index for two sequences of data\n",
    "- `geo_distance()`:calculate euclidean distance betweem two points\n",
    "- `SLOO_CV()`:a class used to implement the SLOO CV.\n",
    "    - `.calculate_distance()`:calculate all distance in advance and save into a matrix. By doing this the calculation cost would be decreased.\n",
    "    - `.predict()`: run sloo CV using given k and raidus\n",
    "    - `.select_model()`: try a set of paramters to predict and return scores with given scorer"
   ]
  },
  {
   "cell_type": "markdown",
   "metadata": {},
   "source": [
    "## Load data"
   ]
  },
  {
   "cell_type": "code",
   "execution_count": 124,
   "metadata": {},
   "outputs": [],
   "source": [
    "X= np.genfromtxt('/Users/mayue/Desktop/TKO-2096/Exe/ExeIV/INPUT.csv',delimiter=',')"
   ]
  },
  {
   "cell_type": "code",
   "execution_count": 125,
   "metadata": {},
   "outputs": [],
   "source": [
    "y=np.genfromtxt('/Users/mayue/Desktop/TKO-2096/Exe/ExeIV/OUTPUT.csv',delimiter=',')"
   ]
  },
  {
   "cell_type": "code",
   "execution_count": 126,
   "metadata": {},
   "outputs": [],
   "source": [
    "coords=np.genfromtxt('/Users/mayue/Desktop/TKO-2096/Exe/ExeIV/COORDINATES.csv',delimiter=',')"
   ]
  },
  {
   "cell_type": "markdown",
   "metadata": {},
   "source": [
    "## Standardization"
   ]
  },
  {
   "cell_type": "code",
   "execution_count": 127,
   "metadata": {},
   "outputs": [],
   "source": [
    "X=zscore(X)\n",
    "y=zscore(y)"
   ]
  },
  {
   "cell_type": "markdown",
   "metadata": {},
   "source": [
    "## Implement C-index"
   ]
  },
  {
   "cell_type": "markdown",
   "metadata": {},
   "source": [
    "This part is from previous exercise."
   ]
  },
  {
   "cell_type": "code",
   "execution_count": 128,
   "metadata": {},
   "outputs": [],
   "source": [
    "def C_index(pred,true_labels):\n",
    "    \"\"\"pred and true_labels are sequences which have same length\"\"\"\n",
    "    n=0\n",
    "    h_sum=0.0\n",
    "    for i in range(0,len(true_labels)):\n",
    "        t=true_labels[i]\n",
    "        p=pred[i]\n",
    "        for j in range(i+1,len(true_labels)):\n",
    "            nt=true_labels[j]\n",
    "            np=pred[j]\n",
    "            if t!=nt:\n",
    "                n=n+1\n",
    "#                 pdb.set_trace()\n",
    "                if ((p<np)&(t<nt))|((p>np)&(t>nt)):\n",
    "                    h_sum+=1.0\n",
    "                else:\n",
    "                    if p==np:\n",
    "                        h_sum+=0.5\n",
    "    return float(h_sum/n)"
   ]
  },
  {
   "cell_type": "markdown",
   "metadata": {},
   "source": [
    "## Calculate geographical distance"
   ]
  },
  {
   "cell_type": "code",
   "execution_count": 129,
   "metadata": {},
   "outputs": [],
   "source": [
    "def geo_distance(coord1,coord2):\n",
    "    \"\"\"calculate geographical distance between 2 points\"\"\"\n",
    "    return np.sqrt(sum((coord1-coord2)**2))"
   ]
  },
  {
   "cell_type": "markdown",
   "metadata": {},
   "source": [
    "## Implement SLOO"
   ]
  },
  {
   "cell_type": "markdown",
   "metadata": {},
   "source": [
    "- `.scores` attribute is all scores with different k-r combination.\n",
    "- `.best_scores` attribute is best k-valued model's performance with different r values\n",
    "- `.best_indexs` attribute is best k value with different r values"
   ]
  },
  {
   "cell_type": "code",
   "execution_count": 130,
   "metadata": {},
   "outputs": [],
   "source": [
    "class SLOO_CV():\n",
    "    \n",
    "    def __init__(self):\n",
    "         pass\n",
    "    \n",
    "    def load_data(self,attributes,targets,coords):\n",
    "        \"\"\"load the train data before validating\"\"\"\n",
    "        \"\"\"coordinates should also be received\"\"\"\n",
    "        self.attributes=attributes\n",
    "        self.targets=targets\n",
    "        self.coords=coords\n",
    "        self.n=self.coords.shape[0] #number of samples\n",
    "    \n",
    "    def calculate_distance(self):\n",
    "        \"\"\"calculate distance between any 2 samples and save the results in to a matrix\"\"\"\n",
    "        n=self.n\n",
    "        distances=np.empty([n,n])#create an empty matrix \n",
    "        distances[:]=None #initialize values\n",
    "        for i in range(0,n):\n",
    "            for j in range(0,n):\n",
    "                distances[i,j]=geo_distance(self.coords[i],self.coords[j])\n",
    "        self.distances=distances\n",
    "    \n",
    "    def predict(self,num_neighbor,radius):\n",
    "        \"\"\"run SLOO CV with given k and radius values. return predicted values\"\"\"\n",
    "        \n",
    "        self.rad=radius\n",
    "        n=self.n\n",
    "        all_results=[]\n",
    "        for i in range(0,n):\n",
    "            #split train set and validate set\n",
    "\n",
    "            X_validate=self.attributes[i,:]\n",
    "            y_validate=self.targets[i]\n",
    "            X_validate=X_validate.reshape(1,-1)\n",
    "\n",
    "            dz_index=[m for m in range(0,n) if (sloo.distances[i,m]<=self.rad)&(sloo.distances[i,m]>=0)]\n",
    "            \n",
    "            X_train=np.delete(self.attributes,dz_index,0)\n",
    "            y_train=np.delete(self.targets,dz_index,0)#remove dead zone samples\n",
    "\n",
    "            predictor=KNeighborsRegressor(num_neighbor)\n",
    "            predictor.fit(X_train,y_train)\n",
    "            pred=predictor.predict(X_validate)[0]\n",
    "\n",
    "            all_results.append(pred)\n",
    "        self.results=np.array(all_results)\n",
    "        return self.results\n",
    "    \n",
    "    def select_model(self,radius_list,k_list,scorer):\n",
    "        \"\"\"evaluate performance with given sets of parameters\"\"\"\n",
    "        scores={}#outer dict to save scores of different raidus values\n",
    "        for r in radius_list:\n",
    "            scores_={} #inner dict to store score of different k values\n",
    "            for k in k_list:\n",
    "                pred=self.predict(num_neighbor=k,radius=r) \n",
    "                scores_[k]=scorer(pred,self.targets)\n",
    "                print(\"now raidus={},k={}\".format(r,k))\n",
    "            scores[r]=scores_\n",
    "        self.scores=scores #the scores of all different parameter combination\n",
    "        \n",
    "        best_scores={}\n",
    "        best_indexs={}\n",
    "        for i in scores.keys():\n",
    "            best_scores[i]=max(scores[i].values())#the score of the best model\n",
    "            best_indexs[i]=max(scores[i],key=scores[i].get)# the parameter values of the best model\n",
    "            print(\"For raidus={}, the best k is {}, the score is {}\".format(i,max(scores[i],key=scores[i].get),max(scores[i].values())))\n",
    "        self.best_scores=best_scores \n",
    "        self.best_index=best_indexs\n",
    "        print(\"the best radius which can get best performance is: {}\".format(max(best_scores,key=best_scores.get)))\n",
    "        \n",
    "        "
   ]
  },
  {
   "cell_type": "markdown",
   "metadata": {},
   "source": [
    "## Results"
   ]
  },
  {
   "cell_type": "code",
   "execution_count": 131,
   "metadata": {},
   "outputs": [
    {
     "name": "stdout",
     "output_type": "stream",
     "text": [
      "now raidus=0,k=1\n",
      "now raidus=0,k=3\n",
      "now raidus=0,k=5\n",
      "now raidus=0,k=7\n",
      "now raidus=0,k=9\n",
      "now raidus=10,k=1\n",
      "now raidus=10,k=3\n",
      "now raidus=10,k=5\n",
      "now raidus=10,k=7\n",
      "now raidus=10,k=9\n",
      "now raidus=20,k=1\n",
      "now raidus=20,k=3\n",
      "now raidus=20,k=5\n",
      "now raidus=20,k=7\n",
      "now raidus=20,k=9\n",
      "now raidus=30,k=1\n",
      "now raidus=30,k=3\n",
      "now raidus=30,k=5\n",
      "now raidus=30,k=7\n",
      "now raidus=30,k=9\n",
      "now raidus=40,k=1\n",
      "now raidus=40,k=3\n",
      "now raidus=40,k=5\n",
      "now raidus=40,k=7\n",
      "now raidus=40,k=9\n",
      "now raidus=50,k=1\n",
      "now raidus=50,k=3\n",
      "now raidus=50,k=5\n",
      "now raidus=50,k=7\n",
      "now raidus=50,k=9\n",
      "now raidus=60,k=1\n",
      "now raidus=60,k=3\n",
      "now raidus=60,k=5\n",
      "now raidus=60,k=7\n",
      "now raidus=60,k=9\n",
      "now raidus=70,k=1\n",
      "now raidus=70,k=3\n",
      "now raidus=70,k=5\n",
      "now raidus=70,k=7\n",
      "now raidus=70,k=9\n",
      "now raidus=80,k=1\n",
      "now raidus=80,k=3\n",
      "now raidus=80,k=5\n",
      "now raidus=80,k=7\n",
      "now raidus=80,k=9\n",
      "now raidus=90,k=1\n",
      "now raidus=90,k=3\n",
      "now raidus=90,k=5\n",
      "now raidus=90,k=7\n",
      "now raidus=90,k=9\n",
      "now raidus=100,k=1\n",
      "now raidus=100,k=3\n",
      "now raidus=100,k=5\n",
      "now raidus=100,k=7\n",
      "now raidus=100,k=9\n",
      "now raidus=110,k=1\n",
      "now raidus=110,k=3\n",
      "now raidus=110,k=5\n",
      "now raidus=110,k=7\n",
      "now raidus=110,k=9\n",
      "now raidus=120,k=1\n",
      "now raidus=120,k=3\n",
      "now raidus=120,k=5\n",
      "now raidus=120,k=7\n",
      "now raidus=120,k=9\n",
      "now raidus=130,k=1\n",
      "now raidus=130,k=3\n",
      "now raidus=130,k=5\n",
      "now raidus=130,k=7\n",
      "now raidus=130,k=9\n",
      "now raidus=140,k=1\n",
      "now raidus=140,k=3\n",
      "now raidus=140,k=5\n",
      "now raidus=140,k=7\n",
      "now raidus=140,k=9\n",
      "now raidus=150,k=1\n",
      "now raidus=150,k=3\n",
      "now raidus=150,k=5\n",
      "now raidus=150,k=7\n",
      "now raidus=150,k=9\n",
      "now raidus=160,k=1\n",
      "now raidus=160,k=3\n",
      "now raidus=160,k=5\n",
      "now raidus=160,k=7\n",
      "now raidus=160,k=9\n",
      "now raidus=170,k=1\n",
      "now raidus=170,k=3\n",
      "now raidus=170,k=5\n",
      "now raidus=170,k=7\n",
      "now raidus=170,k=9\n",
      "now raidus=180,k=1\n",
      "now raidus=180,k=3\n",
      "now raidus=180,k=5\n",
      "now raidus=180,k=7\n",
      "now raidus=180,k=9\n",
      "now raidus=190,k=1\n",
      "now raidus=190,k=3\n",
      "now raidus=190,k=5\n",
      "now raidus=190,k=7\n",
      "now raidus=190,k=9\n",
      "now raidus=200,k=1\n",
      "now raidus=200,k=3\n",
      "now raidus=200,k=5\n",
      "now raidus=200,k=7\n",
      "now raidus=200,k=9\n",
      "For raidus=0, the best k is 9, the score is 0.721295089518\n",
      "For raidus=160, the best k is 7, the score is 0.617502229365\n",
      "For raidus=130, the best k is 7, the score is 0.621429691361\n",
      "For raidus=100, the best k is 7, the score is 0.687506737092\n",
      "For raidus=70, the best k is 9, the score is 0.694447866459\n",
      "For raidus=40, the best k is 9, the score is 0.704090132138\n",
      "For raidus=10, the best k is 9, the score is 0.711954505557\n",
      "For raidus=140, the best k is 7, the score is 0.619256323067\n",
      "For raidus=110, the best k is 7, the score is 0.65583085665\n",
      "For raidus=80, the best k is 9, the score is 0.690814036669\n",
      "For raidus=200, the best k is 7, the score is 0.614657251771\n",
      "For raidus=50, the best k is 9, the score is 0.70084372887\n",
      "For raidus=20, the best k is 9, the score is 0.711211850562\n",
      "For raidus=190, the best k is 7, the score is 0.615781733627\n",
      "For raidus=150, the best k is 7, the score is 0.616445993373\n",
      "For raidus=120, the best k is 7, the score is 0.634591693743\n",
      "For raidus=180, the best k is 7, the score is 0.616143961676\n",
      "For raidus=90, the best k is 7, the score is 0.689325226891\n",
      "For raidus=60, the best k is 9, the score is 0.699204428212\n",
      "For raidus=170, the best k is 7, the score is 0.61713580157\n",
      "For raidus=30, the best k is 9, the score is 0.705195365161\n",
      "the best radius which can get best performance is: 0\n"
     ]
    }
   ],
   "source": [
    "sloo=SLOO_CV()\n",
    "sloo.load_data(X,y,coords)\n",
    "sloo.calculate_distance()\n",
    "sloo.select_model(range(0,201,10),[1,3,5,7,9],C_index)"
   ]
  },
  {
   "cell_type": "markdown",
   "metadata": {},
   "source": [
    "```\n",
    "For raidus=0, the best k is 9, the score is 0.721295089518\n",
    "For raidus=160, the best k is 7, the score is 0.617502229365\n",
    "For raidus=130, the best k is 7, the score is 0.621429691361\n",
    "For raidus=100, the best k is 7, the score is 0.687506737092\n",
    "For raidus=70, the best k is 9, the score is 0.694447866459\n",
    "For raidus=40, the best k is 9, the score is 0.704090132138\n",
    "For raidus=10, the best k is 9, the score is 0.711954505557\n",
    "For raidus=140, the best k is 7, the score is 0.619256323067\n",
    "For raidus=110, the best k is 7, the score is 0.65583085665\n",
    "For raidus=80, the best k is 9, the score is 0.690814036669\n",
    "For raidus=200, the best k is 7, the score is 0.614657251771\n",
    "For raidus=50, the best k is 9, the score is 0.70084372887\n",
    "For raidus=20, the best k is 9, the score is 0.711211850562\n",
    "For raidus=190, the best k is 7, the score is 0.615781733627\n",
    "For raidus=150, the best k is 7, the score is 0.616445993373\n",
    "For raidus=120, the best k is 7, the score is 0.634591693743\n",
    "For raidus=180, the best k is 7, the score is 0.616143961676\n",
    "For raidus=90, the best k is 7, the score is 0.689325226891\n",
    "For raidus=60, the best k is 9, the score is 0.699204428212\n",
    "For raidus=170, the best k is 7, the score is 0.61713580157\n",
    "For raidus=30, the best k is 9, the score is 0.705195365161\n",
    "```"
   ]
  },
  {
   "cell_type": "code",
   "execution_count": 136,
   "metadata": {},
   "outputs": [],
   "source": [
    "a=pd.DataFrame.from_dict(sloo.best_scores,orient='index',columns=['c-index'])\n",
    "a=a.sort_index()#transfer the data into `DataFrame` to make visualization easier"
   ]
  },
  {
   "cell_type": "code",
   "execution_count": 139,
   "metadata": {
    "scrolled": false
   },
   "outputs": [
    {
     "data": {
      "text/plain": [
       "Text(0,0.5,'c-index')"
      ]
     },
     "execution_count": 139,
     "metadata": {},
     "output_type": "execute_result"
    },
    {
     "data": {
      "image/png": "[encoded data removed]",
      "text/plain": [
       "<Figure size 432x288 with 1 Axes>"
      ]
     },
     "metadata": {
      "needs_background": "light"
     },
     "output_type": "display_data"
    }
   ],
   "source": [
    "\"\"\"visualization\"\"\"\n",
    "plt.plot(a['c-index'],'-')\n",
    "plt.xlabel(\"radius\")\n",
    "plt.ylabel(\"c-index\")"
   ]
  },
  {
   "cell_type": "markdown",
   "metadata": {},
   "source": [
    "We can find that when raidus=0, there is the best performance. Because of SAC, this performance may be optimistic. When radius is 100~125, the performance witnessed a huge decreasement."
   ]
  }
 ],
 "metadata": {
  "kernelspec": {
   "display_name": "ccc",
   "language": "python",
   "name": "your_env_name"
  },
  "language_info": {
   "codemirror_mode": {
    "name": "ipython",
    "version": 2
   },
   "file_extension": ".py",
   "mimetype": "text/x-python",
   "name": "python",
   "nbconvert_exporter": "python",
   "pygments_lexer": "ipython2",
   "version": "2.7.15"
  }
 },
 "nbformat": 4,
 "nbformat_minor": 2
}
